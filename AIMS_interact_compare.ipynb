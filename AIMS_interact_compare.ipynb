{
 "cells": [
  {
   "cell_type": "markdown",
   "metadata": {},
   "source": [
    "# This Jupyter Notebook is Provided for the Purpose of Reproducing the Analysis in Boughter & Meier-Schellersheim 2022\n",
    "Specifically \"A Systematic Characterization of Germline Contacts Identifies the Source of Bias in TCR-MHC Interactions\", currently released in preprint form"
   ]
  },
  {
   "cell_type": "code",
   "execution_count": 1,
   "metadata": {},
   "outputs": [],
   "source": [
    "%matplotlib inline\n",
    "import numpy as np\n",
    "import matplotlib.pyplot as pl\n",
    "import mdtraj as md\n",
    "import matplotlib as mpl\n",
    "import os\n",
    "import pandas\n",
    "import itertools\n",
    "from matplotlib import rc\n",
    "from matplotlib import rcParams\n",
    "\n",
    "# Woohoo my own homemade scripts!\n",
    "import tcr_structParse as tcrParse"
   ]
  },
  {
   "attachments": {},
   "cell_type": "markdown",
   "metadata": {},
   "source": [
    "# If you want your own custom analysis, you can run run \"parser_main.py\" to get back out Distances from PDBs with your own custom settings\n",
    "For now, I've included the distances used for the analysis in the MHC Germline Manuscript. Files are small enough so easy to include."
   ]
  },
  {
   "attachments": {},
   "cell_type": "markdown",
   "metadata": {},
   "source": [
    "# Also, for the below section, got negative feedback in the reviews for the way that I classified \"Interactions\"\n",
    "Now this is a little tricky to change. Not in the code, that's easy. But in reasonably breaking down how TCRs and MHCs interact.\n",
    "\n",
    "I think the reviewer entirely missed the mark, and isn't understanding that we're trying to break these complexes down to their essences.\n",
    "\n",
    "# Below we now have the second version of this PRESTO scoring, see reviews and manuscript for details"
   ]
  },
  {
   "cell_type": "code",
   "execution_count": null,
   "metadata": {},
   "outputs": [],
   "source": [
    "# In this bit of script, we further process the sidechain distances from the PDBs\n",
    "# We select out only the \"productive\" interactions O-N, H-O, H-N, or C-C\n",
    "# Further, only allow C-C contacts with non-clashing residues\n",
    "# Also ensure that we are matching these with the PDB ID and the TRAV/TRBV allele\n",
    "\n",
    "########## MOST IMPORTANT BIT TO START (AND LATER ON) #################\n",
    "# Define which MHC class you are interested in\n",
    "mhc_class = 1\n",
    "######################################################################\n",
    "\n",
    "if mhc_class == 2:\n",
    "    input_df = pandas.read_csv('tcr3d_classIImeta.csv')\n",
    "    #path = 'classII_dist/'\n",
    "    path = 'classII_back_side/'\n",
    "else:\n",
    "    input_df = pandas.read_csv('tcr3d_classImeta.csv')\n",
    "    #path = 'classI_dist/'\n",
    "    path = 'classI_back_side/'\n",
    "    \n",
    "human_df = input_df[input_df['Species'] == 'Human']\n",
    "\n",
    "phob = ['ILE','PHE','MET','LEU','VAL','ALA','GLY','PRO','TRP']\n",
    "# So hybrid meant phobic/philic hybrids in the prepint version\n",
    "# Now it means those residues that *can* form O-O or N-N hydrogen bond pairs (the same atom can be donor OR acceptor)\n",
    "# If one of these residues are involved in an interaction, allow for O-O or N-N interactions\n",
    "hybrid = ['SER','THR','TYR','HIS']\n",
    "phillic = ['ASN','GLN','CYS']\n",
    "pos = ['ARG','LYS']; neg = ['ASP','GLU']\n",
    "\n",
    "x = os.listdir(path)\n",
    "first = True\n",
    "# For every file in the given directory...\n",
    "for i in x:\n",
    "    # Make sure we are only taking out the\n",
    "    # files that are from the output of the parser_main.py\n",
    "    if i[-9:] == 'dists.csv':\n",
    "        temp_pdb = i[:4]\n",
    "        # Pull out the PDB/TRAV/TRBV information\n",
    "        pdb_info = human_df[human_df['PDB<BR>ID'] == temp_pdb]\n",
    "        temp_trav = pdb_info['TRAV<BR>gene'].values[0]\n",
    "        temp_trbv = pdb_info['TRBV<BR>gene'].values[0]\n",
    "        temp_df = pandas.read_csv(path+i)\n",
    "        # Pull out the MHC information\n",
    "        mhcID_temp = input_df[input_df['PDB<BR>ID'] == temp_pdb]['MHC<BR>Name'].values[0]\n",
    "        for j in np.arange(len(temp_df)):\n",
    "            save = False\n",
    "            tcr_atom = temp_df.loc[j]['tcrName'][0]\n",
    "            mhc_atom = temp_df.loc[j]['mhcName'][0]\n",
    "            tcrRes = temp_df.loc[j]['tcrRes']\n",
    "            mhcRes = temp_df.loc[j]['mhcRes']\n",
    "            atom_int = tcr_atom+mhc_atom\n",
    "            distance = temp_df.loc[j]['distance']\n",
    "            # Then go through and try to find good interactors\n",
    "            if atom_int == 'ON' or atom_int == 'NO':\n",
    "                save = True\n",
    "            elif atom_int == 'HO' or atom_int == 'OH':\n",
    "                save = True\n",
    "            elif atom_int == 'HN' or atom_int == 'NH':\n",
    "                save = True\n",
    "            elif atom_int == 'CC':\n",
    "                # Be more stringent with CC interactions\n",
    "                if distance < 0.45:\n",
    "                    save = True\n",
    "            elif atom_int == 'OO' or atom_int == 'NN':\n",
    "                if tcrRes in hybrid:\n",
    "                    save = True\n",
    "                elif mhcRes in hybrid:\n",
    "                    save = True\n",
    "            \n",
    "            if save:\n",
    "                tcrRes = temp_df.loc[j]['tcrRes']\n",
    "                tcrNum = temp_df.loc[j]['tcrNum']\n",
    "                mhcRes = temp_df.loc[j]['mhcRes']\n",
    "                mhcNum = temp_df.loc[j]['mhcNum']\n",
    "                loop = temp_df.loc[j]['loop']\n",
    "                dist = temp_df.loc[j]['distance']\n",
    "                if mhc_class == 2:\n",
    "                    mhc_chain = temp_df.loc[j]['mhc_chain']\n",
    "                    holdit = [temp_pdb,mhcID_temp,atom_int,tcrRes,tcrNum,mhcRes,mhcNum,loop,temp_trav,temp_trbv,mhc_chain,dist]\n",
    "                else:\n",
    "                    holdit = [temp_pdb,mhcID_temp,atom_int,tcrRes,tcrNum,mhcRes,mhcNum,loop,temp_trav,temp_trbv,dist]\n",
    "                if first:\n",
    "                    final_df = np.transpose(pandas.DataFrame(holdit))\n",
    "                    first = False\n",
    "                else:\n",
    "                    final_df = pandas.concat([final_df,np.transpose(pandas.DataFrame(holdit))])\n",
    "\n",
    "\n",
    "# Have a final dataframe with all of this information\n",
    "final_contacts = final_df.drop_duplicates()\n",
    "if mhc_class == 2:\n",
    "    final_contacts.columns = ['PDB','mhcID','Atoms','tcrRes','tcrNum','mhcRes','mhcNum','Loop','TRAV','TRBV','mhc_chain']\n",
    "else:\n",
    "    final_contacts.columns = ['PDB','mhcID','Atoms','tcrRes','tcrNum','mhcRes','mhcNum','Loop','TRAV','TRBV']\n",
    "final_contacts.index = np.arange(len(final_contacts))"
   ]
  },
  {
   "cell_type": "markdown",
   "metadata": {},
   "source": [
    "# These are the new PRESTO outputs necessary for completing the MHC Germline Analysis"
   ]
  },
  {
   "cell_type": "code",
   "execution_count": null,
   "metadata": {},
   "outputs": [],
   "source": [
    "# identify duplicate interactions between residues and keep only the \"best\" one\n",
    "iden_sub = final_df[['PDB','tcrNum','mhcNum']]\n",
    "nondup_contacts = final_df[~iden_sub.duplicated(keep=False)]\n",
    "\n",
    "# So for some reason \"keep\" is what you are not including in \"duplicated\"?\n",
    "# Idk it is written in a very counter-intuitive way, but this FOR loop\n",
    "# will include EVERYTHING we want\n",
    "hold_df = []\n",
    "for set in final_df[~iden_sub.duplicated(keep='first')][['PDB','tcrNum','mhcNum']].values:\n",
    "    pdb = set[0]; tcrnum = set[1]; mhcnum = set[2]\n",
    "    sub1 = final_df[final_df['PDB'] == pdb]\n",
    "    sub2 = sub1[sub1['tcrNum']==tcrnum]\n",
    "    sub3 = sub2[sub2['mhcNum']==mhcnum]\n",
    "\n",
    "    # So we are sorting the distances of each residue\n",
    "    # And only keeping the closest one.\n",
    "    hold_df = hold_df + [sub3.sort_values('Dist').iloc[0]]\n",
    "\n",
    "best_res_contacts = pandas.DataFrame(hold_df)\n",
    "\n",
    "# So I now believe that best_res_contacts should be EXACTLY what we want.\n",
    "# No double counting, only taking the closest (and likely best!) interactions\n",
    "best_res_contacts.to_csv('back_side_class1.csv',index=False)"
   ]
  },
  {
   "cell_type": "markdown",
   "metadata": {},
   "source": [
    "# EVERYTHING BELOW HERE IS THE *OLD* WAY OF LOOKING AT THE OUTPUTS"
   ]
  },
  {
   "cell_type": "code",
   "execution_count": 3,
   "metadata": {},
   "outputs": [],
   "source": [
    "# Process a little more to separate things out by CDR\n",
    "# For a lot of the analysis, we only need a per-PDB breakdown\n",
    "# on the number of counts for each PDB\n",
    "fin=[]\n",
    "for i in final_contacts['PDB'].drop_duplicates().values:\n",
    "    count_1a = 0;count_2a = 0;count_1b=0;count_2b=0\n",
    "    xx = final_contacts[final_contacts['PDB'] == i]\n",
    "    trav= final_contacts[final_contacts['PDB'] == i]['TRAV'].drop_duplicates().values[0]\n",
    "    trbv= final_contacts[final_contacts['PDB'] == i]['TRBV'].drop_duplicates().values[0]\n",
    "    count_1a = len(xx[xx['Loop']=='cdr1a'])\n",
    "    count_2a = len(xx[xx['Loop']=='cdr2a'])\n",
    "    count_1b = len(xx[xx['Loop']=='cdr1b'])\n",
    "    count_2b = len(xx[xx['Loop']=='cdr2b'])\n",
    "    fin = fin+[[i,trav,trbv,count_1a,count_2a,count_1b,count_2b]]\n",
    "fin_df = pandas.DataFrame(fin)\n",
    "fin_df.columns = ['PDB','TRAV','TRBV','CDR1A','CDR2A','CDR1B','CDR2B']"
   ]
  },
  {
   "cell_type": "markdown",
   "metadata": {},
   "source": [
    "# You Now Have All the Information on the PDB Side to Make Comparisons to AIMS Interaction Scores\n",
    "# Now, Load Back in AIMS Interaction Score By-Residue Breakdowns to Complete the Comparison"
   ]
  },
  {
   "cell_type": "code",
   "execution_count": 5,
   "metadata": {},
   "outputs": [],
   "source": [
    "if mhc_class == 1:\n",
    "    a1_breakdown = pandas.read_csv('interact_scores/classI_a1_breakdown.csv',index_col=0)\n",
    "    a2_breakdown = pandas.read_csv('interact_scores/classI_a2_breakdown.csv',index_col=0)\n",
    "    b1_breakdown = pandas.read_csv('interact_scores/classI_b1_breakdown.csv',index_col=0)\n",
    "    b2_breakdown = pandas.read_csv('interact_scores/classI_b2_breakdown.csv',index_col=0)\n",
    "elif mhc_class == 2:\n",
    "    # Note, we are only loading in the \"proper\" interaction scores. i.e. alpha chain\n",
    "    # with TCRbeta, beta chain with TCRalpha. hence only having 4 files here\n",
    "    a1_breakdown = pandas.read_csv('interact_scores/classIIb_a1_breakdown.csv',index_col=0)\n",
    "    a2_breakdown = pandas.read_csv('interact_scores/classIIb_a2_breakdown.csv',index_col=0)\n",
    "    b1_breakdown = pandas.read_csv('interact_scores/classIIa_b1_breakdown.csv',index_col=0)\n",
    "    b2_breakdown = pandas.read_csv('interact_scores/classIIa_b2_breakdown.csv',index_col=0)\n"
   ]
  },
  {
   "cell_type": "markdown",
   "metadata": {},
   "source": [
    "# Break Down these breakdowns into a by-CDR score"
   ]
  },
  {
   "cell_type": "code",
   "execution_count": 6,
   "metadata": {},
   "outputs": [],
   "source": [
    "cdr1b_score = []; cdr2b_score = []\n",
    "for i in fin_df['TRBV'].values:\n",
    "    cdr1b_score = cdr1b_score + [np.average(b1_breakdown.loc[i].values)]\n",
    "    cdr2b_score = cdr2b_score + [np.average(b2_breakdown.loc[i].values)]\n",
    "cdr1a_score = []; cdr2a_score = []\n",
    "for i in fin_df['TRAV'].values:\n",
    "    cdr1a_score = cdr1a_score + [np.average(a1_breakdown.loc[i].values)]\n",
    "    cdr2a_score = cdr2a_score + [np.average(a2_breakdown.loc[i].values)]"
   ]
  },
  {
   "cell_type": "markdown",
   "metadata": {},
   "source": [
    "# This next cell is solely for making plots look better"
   ]
  },
  {
   "cell_type": "code",
   "execution_count": 7,
   "metadata": {},
   "outputs": [],
   "source": [
    "# You can edit these at some point if you want to change the formatting of your figures\n",
    "font = {'family' : 'Arial',\n",
    "        'weight' : 'bold',\n",
    "        'size'   : 20}\n",
    "COLOR = 'black'\n",
    "rcParams['text.color'] = 'black'\n",
    "rcParams['axes.labelcolor'] = COLOR\n",
    "rcParams['xtick.color'] = COLOR\n",
    "rcParams['ytick.color'] = COLOR\n",
    "\n",
    "rc('font', **font)\n",
    "\n",
    "# Custom colormap code from: https://stackoverflow.com/questions/49367144/modify-matplotlib-colormap\n",
    "import matplotlib as mpl\n",
    "upper = mpl.cm.jet(np.arange(256))\n",
    "lower = np.ones((int(256/4),4))\n",
    "for i in range(3):\n",
    "    lower[:,i] = np.linspace(1, upper[0,i], lower.shape[0])\n",
    "\n",
    "cmap = np.vstack(( lower, upper ))\n",
    "cmap = mpl.colors.ListedColormap(cmap, name='myColorMap', N=cmap.shape[0])"
   ]
  },
  {
   "cell_type": "markdown",
   "metadata": {},
   "source": [
    "# Plot the CDR-MHC Contacts Broken Down by Interaction Prediction"
   ]
  },
  {
   "cell_type": "code",
   "execution_count": 8,
   "metadata": {},
   "outputs": [
    {
     "data": {
      "text/plain": [
       "Text(0,0.5,'Count')"
      ]
     },
     "execution_count": 8,
     "metadata": {},
     "output_type": "execute_result"
    },
    {
     "data": {
      "image/png": "[encoded data removed]",
      "text/plain": [
       "<Figure size 720x576 with 1 Axes>"
      ]
     },
     "metadata": {
      "needs_background": "light"
     },
     "output_type": "display_data"
    }
   ],
   "source": [
    "fig, ax = pl.subplots(1, 1,squeeze=False,figsize=(10,8))\n",
    "compare_metrics1a = np.transpose(pandas.DataFrame([cdr1a_score,fin_df['CDR1A'],fin_df['TRAV'],fin_df['PDB']]))\n",
    "compare_metrics1b = np.transpose(pandas.DataFrame([cdr1b_score,fin_df['CDR1B'],fin_df['TRBV'],fin_df['PDB']]))\n",
    "compare_metrics2a = np.transpose(pandas.DataFrame([cdr2a_score,fin_df['CDR2A'],fin_df['TRAV'],fin_df['PDB']]))\n",
    "compare_metrics2b = np.transpose(pandas.DataFrame([cdr2b_score,fin_df['CDR2B'],fin_df['TRBV'],fin_df['PDB']]))\n",
    "\n",
    "label=['CDR1A','CDR2A','CDR1B','CDR2B']\n",
    "xaxis = [1,2,3,4]\n",
    "cryst_contacts=[sum(compare_metrics1a[1].values),sum(compare_metrics2a[1].values),\n",
    " sum(compare_metrics1b[1].values),sum(compare_metrics2b[1].values)]\n",
    "pred0_1a = sum(compare_metrics1a[compare_metrics1a[0] == 0][1])\n",
    "pred0_2a = sum(compare_metrics2a[compare_metrics2a[0] == 0][1])\n",
    "pred0_1b = sum(compare_metrics1b[compare_metrics1b[0] == 0][1])\n",
    "pred0_2b = sum(compare_metrics2b[compare_metrics2b[0] == 0][1])\n",
    "\n",
    "pred_1a = sum(compare_metrics1a[compare_metrics1a[0] != 0][1])\n",
    "pred_2a = sum(compare_metrics2a[compare_metrics2a[0] != 0][1])\n",
    "pred_1b = sum(compare_metrics1b[compare_metrics1b[0] != 0][1])\n",
    "pred_2b = sum(compare_metrics2b[compare_metrics2b[0] != 0][1])\n",
    "\n",
    "pred_contacts = [pred_1a,pred_2a,pred_1b,pred_2b]\n",
    "predZero_contacts = [pred0_1a,pred0_2a,pred0_1b,pred0_2b]\n",
    "\n",
    "pl.bar(xaxis,cryst_contacts,width=0.2,color='red')\n",
    "pl.bar(xaxis+np.ones(4)*0.2,pred_contacts,width=0.2,color='orange')\n",
    "pl.bar(xaxis+np.ones(4)*0.4,predZero_contacts,width=0.2,color='gold')\n",
    "\n",
    "xax=pl.setp(ax[0,0],xticks=np.arange(4)+1.2,xticklabels=label)\n",
    "pl.legend(['Tot Crystal Contacts','Pred. Binders','Pred. NonBinders'])\n",
    "pl.ylabel('Count')\n",
    "#pl.savefig('classII_struct_breakdown.pdf',format='pdf')"
   ]
  },
  {
   "cell_type": "markdown",
   "metadata": {},
   "source": [
    "# Plot the CDRs that Don't Contact MHC Broken Down by Interaction Prediction"
   ]
  },
  {
   "cell_type": "code",
   "execution_count": 9,
   "metadata": {},
   "outputs": [
    {
     "data": {
      "text/plain": [
       "Text(0,0.5,'Count')"
      ]
     },
     "execution_count": 9,
     "metadata": {},
     "output_type": "execute_result"
    },
    {
     "data": {
      "image/png": "[encoded data removed]",
      "text/plain": [
       "<Figure size 720x576 with 1 Axes>"
      ]
     },
     "metadata": {
      "needs_background": "light"
     },
     "output_type": "display_data"
    }
   ],
   "source": [
    "fig, ax = pl.subplots(1, 1,squeeze=False,figsize=(10,8))\n",
    "\n",
    "pred0_1a = compare_metrics1a[compare_metrics1a[0] == 0]\n",
    "pred0_2a = compare_metrics2a[compare_metrics2a[0] == 0]\n",
    "pred0_1b = compare_metrics1b[compare_metrics1b[0] == 0]\n",
    "pred0_2b = compare_metrics2b[compare_metrics2b[0] == 0]\n",
    "\n",
    "matchPred_1a = len(pred0_1a[pred0_1a[1] == 0])\n",
    "matchPred_2a = len(pred0_2a[pred0_2a[1] == 0])\n",
    "matchPred_1b = len(pred0_1b[pred0_1b[1] == 0])\n",
    "matchPred_2b =  len(pred0_2b[pred0_2b[1] == 0])\n",
    "\n",
    "missPred_1a = len(pred0_1a[pred0_1a[1] != 0])\n",
    "missPred_2a = len(pred0_2a[pred0_2a[1] != 0])\n",
    "missPred_1b = len(pred0_1b[pred0_1b[1] != 0])\n",
    "missPred_2b =  len(pred0_2b[pred0_2b[1] != 0])\n",
    "\n",
    "cryst_contacts = [len(pred0_1a),len(pred0_2a),len(pred0_1b),len(pred0_2b)]\n",
    "match_contacts = [matchPred_1a,matchPred_2a,matchPred_1b,matchPred_2b]\n",
    "miss_contacts = [missPred_1a,missPred_2a,missPred_1b,missPred_2b]\n",
    "\n",
    "label=['CDR1A','CDR2A','CDR1B','CDR2B']\n",
    "xaxis = [1,2,3,4]\n",
    "\n",
    "pl.bar(xaxis,cryst_contacts,width=0.2,color='blue')\n",
    "pl.bar(xaxis+np.ones(4)*0.2,match_contacts,width=0.2,color='blue',alpha=0.25)\n",
    "pl.bar(xaxis+np.ones(4)*0.4,miss_contacts,width=0.2,color='grey',alpha=0.5)\n",
    "\n",
    "xax=pl.setp(ax[0,0],xticks=np.arange(4)+1.2,xticklabels=label)\n",
    "pl.legend(['Tot Pred. NonContact','Match NonContact','Miss NonContact'])\n",
    "pl.ylabel('Count')\n",
    "#pl.savefig('classII_struct_breakdown_NoContact.pdf',format='pdf')"
   ]
  },
  {
   "cell_type": "markdown",
   "metadata": {},
   "source": [
    "# Independent of Score, Need to Identify Number of Contacts with a Given MHC Residue\n",
    "Rather than averaging things over all residues per CDR loop as above"
   ]
  },
  {
   "cell_type": "code",
   "execution_count": 10,
   "metadata": {},
   "outputs": [],
   "source": [
    "if mhc_class == 1:\n",
    "    alpha1 = [55,56,59,60,63,66,67,70,74,77,80]\n",
    "    pep_contact = [3,5,7,20,22,24,43,57,61,64,65,68,71,72,75,78,79,82,93,95,97,112,114,141,145,150,154,157,169]\n",
    "    alpha2 = [143,144,147,148,149,152,153,156,160,161,164,165,167,168]\n",
    "    hlaA_0101 = 'SHSMRYFFTSVSRPGRGEPRFIAVGYVDDTQFVRFDSDAASQKMEPRAPWIEQEGPEYWDQETRNMKAHSQTDRANLGTLRGYYNQSEDGSHTIQIMYGCDVGPDGRFLRGYRQDAYDGKDYIALNEDLRSWTAADMAAQITKRKWEAVHAAEQRRVYLEGRCVDGLRRYLENGKETL'\n",
    "    alpha1_seq = []\n",
    "    for i in alpha1:\n",
    "        let = hlaA_0101[i]\n",
    "        alpha1_seq = alpha1_seq + [let]\n",
    "\n",
    "    alpha2_seq = []\n",
    "    for i in alpha2:\n",
    "        let = hlaA_0101[i]\n",
    "        alpha2_seq = alpha2_seq + [let]\n",
    "\n",
    "    alpha1_seqF = ''.join(alpha1_seq)\n",
    "    # Generate a dataframe to count all of these contacts\n",
    "    # THIS ONE IS FOR CLASS I\n",
    "    alpha_list = alpha1+alpha2\n",
    "    cdrs = ['cdr1a','cdr2a','cdr1b','cdr2b']\n",
    "    count_contacts_df = pandas.DataFrame(np.zeros((len(alpha_list),len(cdrs))))\n",
    "    count_contacts_df.columns = cdrs\n",
    "    count_contacts_df.index = alpha_list\n",
    "    a=0\n",
    "    for i in np.arange(len(final_contacts)):\n",
    "        subset = final_contacts.loc[i]\n",
    "        for num in alpha_list:\n",
    "            if num == subset.mhcNum:\n",
    "                count_contacts_df.loc[num][subset.Loop] += 1\n",
    "                a += 1\n",
    "                \n",
    "elif mhc_class == 2:\n",
    "    II_alpha_contacts = [51, 53, 55, 56, 58, 59, 62, 63, 66, 69, 70, 73, 74]\n",
    "    II_beta_contacts = [63, 66, 67, 70, 71, 73, 74, 76, 77, 80, 83, 84, 87, 88, 91, 92]\n",
    "    # Pick just the first listed HLA DQ alleles\n",
    "    hla_dqa1_01 = 'ADHVASCGVNLYQFYGPSGQYTHEFDGDEEFYVDLERKETAWRWPEFSKFGGFDPQGALRNMAVAKHNLNIMIKRYNST'\n",
    "    hla_dqb1_02 = 'LSTPVAEGRDSPEDFVYQFKGMCYFTNGTERVRLVSRSIYNREEIVRFDSDVGEFRAVTLLGLPAAEYWNSQKDILERKRAAVDRVCRHNYQLELRTTLQ'\n",
    "    # THIS ONE IS FOR CLASS II\n",
    "    cdrs = ['cdr1a','cdr2a','cdr1b','cdr2b']\n",
    "    alpha_contacts_df = pandas.DataFrame(np.zeros((len(II_alpha_contacts),len(cdrs))))\n",
    "    alpha_contacts_df.columns = cdrs\n",
    "    alpha_contacts_df.index = II_alpha_contacts\n",
    "\n",
    "    beta_contacts_df = pandas.DataFrame(np.zeros((len(II_beta_contacts),len(cdrs))))\n",
    "    beta_contacts_df.columns = cdrs\n",
    "    beta_contacts_df.index = II_beta_contacts\n",
    "    \n",
    "    alpha_list = II_alpha_contacts + II_beta_contacts\n",
    "\n",
    "    a=0\n",
    "    for i in np.arange(len(final_contacts)):\n",
    "        subset = final_contacts.loc[i]\n",
    "        if subset.mhc_chain == 'mhc_alpha':\n",
    "            for num in II_alpha_contacts:\n",
    "                if num == subset.mhcNum:\n",
    "                    alpha_contacts_df.loc[num][subset.Loop] += 1\n",
    "                    a += 1\n",
    "        if subset.mhc_chain == 'mhc_beta':\n",
    "            for num in II_beta_contacts:\n",
    "                if num == subset.mhcNum:\n",
    "                    beta_contacts_df.loc[num][subset.Loop] += 1\n",
    "                    a += 1\n",
    "\n",
    "    count_contacts_df = pandas.concat([alpha_contacts_df,beta_contacts_df])"
   ]
  },
  {
   "cell_type": "markdown",
   "metadata": {},
   "source": [
    "# Plot Stacked Bar Plots of Crystal Contacts as a Function of Position\n",
    "In the paper, these are matched up with by-residue interaction potentials, which are calculated in the AIMS analysis (as with most of the things in this particular manuscript)."
   ]
  },
  {
   "cell_type": "code",
   "execution_count": 12,
   "metadata": {},
   "outputs": [
    {
     "data": {
      "text/plain": [
       "Text(0,0.5,'Contact Count')"
      ]
     },
     "execution_count": 12,
     "metadata": {},
     "output_type": "execute_result"
    },
    {
     "data": {
      "image/png": "[encoded data removed]",
      "text/plain": [
       "<Figure size 1296x576 with 1 Axes>"
      ]
     },
     "metadata": {
      "needs_background": "light"
     },
     "output_type": "display_data"
    }
   ],
   "source": [
    "fig, ax = pl.subplots(1, 1,squeeze=False,figsize=(18,8))\n",
    "\n",
    "not_2a = count_contacts_df['cdr1a'].values\n",
    "not_1b = count_contacts_df['cdr2a'].values + count_contacts_df['cdr1a'].values\n",
    "not_2b = count_contacts_df['cdr2a'].values + count_contacts_df['cdr1b'].values + count_contacts_df['cdr1a'].values\n",
    "\n",
    "pl.bar(np.arange(len(count_contacts_df['cdr1a'].values)),count_contacts_df['cdr1a'].values,color='purple')\n",
    "pl.bar(np.arange(len(count_contacts_df['cdr2a'].values)),count_contacts_df['cdr2a'].values,bottom = not_2a,color='purple',alpha=0.5)\n",
    "\n",
    "pl.bar(np.arange(len(count_contacts_df['cdr1b'].values)),count_contacts_df['cdr1b'].values,bottom = not_1b,color='gold',alpha=0.5)\n",
    "pl.bar(np.arange(len(count_contacts_df['cdr2b'].values)),count_contacts_df['cdr2b'].values,bottom = not_2b,color='orange',alpha=0.5)\n",
    "\n",
    "label= alpha_list\n",
    "xaxis = np.arange(len(label))\n",
    "xax=pl.setp(ax[0,0],xticks=xaxis,xticklabels=label)\n",
    "\n",
    "#pl.ylim([0,35])\n",
    "pl.legend(['CDR1A','CDR2A','CDR1B','CDR2B'])\n",
    "pl.xlabel('MHC Helix Residue')\n",
    "pl.ylabel('Contact Count')\n",
    "#pl.savefig('class'+str(mhc_class)+'_crystal_contacts.pdf',format='pdf')"
   ]
  }
 ],
 "metadata": {
  "kernelspec": {
   "display_name": "Python2.7 (md)",
   "language": "python",
   "name": "md"
  },
  "language_info": {
   "codemirror_mode": {
    "name": "ipython",
    "version": 2
   },
   "file_extension": ".py",
   "mimetype": "text/x-python",
   "name": "python",
   "nbconvert_exporter": "python",
   "pygments_lexer": "ipython2",
   "version": "2.7.-1"
  }
 },
 "nbformat": 4,
 "nbformat_minor": 4
}
